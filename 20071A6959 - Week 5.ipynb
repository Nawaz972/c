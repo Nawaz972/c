{
 "cells": [
  {
   "cell_type": "markdown",
   "id": "d5bbc9e3",
   "metadata": {},
   "source": [
    "# Model Training\n",
    "\n",
    "1. Holdout\n",
    "2. K-Fold cross validation\n",
    "3. Bootstrap Sampling"
   ]
  },
  {
   "cell_type": "code",
   "execution_count": 5,
   "id": "a845bb65",
   "metadata": {},
   "outputs": [
    {
     "name": "stdout",
     "output_type": "stream",
     "text": [
      "[96.0, 96.0, 95.0, 96.0, 95.0]\n",
      "Final average accuracy 95.6\n"
     ]
    }
   ],
   "source": [
    "import pandas as pd\n",
    "import numpy as np\n",
    "ColumnNames  = ['Hours','Calories','Weight']\n",
    "DataValues = [[1.0,2500,95],\n",
    "             [2.0,2000,85],\n",
    "             [2.5,1900,83],\n",
    "             [3.0,1850,81],\n",
    "             [3.5,1600,80],\n",
    "             [4.0,1500,78],\n",
    "             [5.0,1500,77],\n",
    "             [5.5,1600,80],\n",
    "             [6.0,1700,75],\n",
    "             [6.5,1500,70]]\n",
    "              \n",
    "#Create the Data Frame\n",
    "GymData=pd.DataFrame(data=DataValues,columns=ColumnNames)\n",
    "GymData.head()\n",
    "              \n",
    "#Seperate Target Variable and Predictor Variables\n",
    "TargetVariable  ='Weight'\n",
    "Predictors = ['Hours','Calories']\n",
    "X = GymData[Predictors].values\n",
    "y = GymData[TargetVariable].values\n",
    "\n",
    "#Bootstrapping\n",
    "\n",
    "#Creating empty list to hold accuracy values\n",
    "AccuracyValues=[]\n",
    "n_times=5\n",
    "\n",
    "##Performing Bootstraping\n",
    "for i in range(n_times):\n",
    "    #Split the data into training and testing\n",
    "    from sklearn.model_selection import train_test_split\n",
    "    #Chaning the seed value for each iteration\n",
    "    X_train, X_test, y_train, y_test = train_test_split(X,y, test_size=0.2, random_state=101)\n",
    "    \n",
    "    \n",
    "    #Single Decision Tree Regression in Python\n",
    "    from sklearn import tree\n",
    "    #choose from different tunable hyper parameters\n",
    "    RegModel = tree.DecisionTreeRegressor(max_depth=3,criterion='squared_error')\n",
    "    \n",
    "    #Creating the model on Training Data\n",
    "    DTree  = RegModel.fit(X_train,y_train)\n",
    "    prediction=DTree.predict(X_test)\n",
    "    \n",
    "    #Measuring accuracy on Testing Data\n",
    "    Accuracy  = 100-(np.mean(np.abs((y_test - prediction)/y_test))*100)\n",
    "    \n",
    "    #Storing accuracy on Testing Data\n",
    "    AccuracyValues.append(np.round(Accuracy))\n",
    "    \n",
    "#Rsult of all bootatraping trials\n",
    "print(AccuracyValues)\n",
    "\n",
    "#Final accuracy\n",
    "print('Final average accuracy',np.mean(AccuracyValues))\n"
   ]
  },
  {
   "cell_type": "code",
   "execution_count": 6,
   "id": "d7b6d7fd",
   "metadata": {},
   "outputs": [
    {
     "name": "stdout",
     "output_type": "stream",
     "text": [
      "\n",
      "Accuracy values for 10-fold Cross Validation : \n",
      " [89.47368421 95.29411765 96.78714859 96.2962963  98.75       98.07692308\n",
      " 96.42857143 95.83333333 94.4        92.85714286]\n",
      "\n",
      "Final Average Accuracy of the model :  95.42\n"
     ]
    }
   ],
   "source": [
    "#K-fold cross validation\n",
    "#Defining a custom function to calculate accuracy\n",
    "#Make sure there are no zeros in the target variable if you are using MAPE\n",
    "def Accuracy_Score(orig,pred):\n",
    "    MAPE=np.mean(100*(np.abs(orig-pred)/orig))\n",
    "    #print ('#'*70,'Accuracy:',100-MAPE)\n",
    "    return (100-MAPE)\n",
    "\n",
    "#Custom Scoring MAPE calculation\n",
    "from sklearn.metrics import make_scorer\n",
    "custom_Scoring = make_scorer(Accuracy_Score,greater_is_better=True)\n",
    "\n",
    "#Importing cross validation function from sklearn\n",
    "from sklearn.model_selection import cross_val_score\n",
    "\n",
    "#Single Decision Tree Regression in python\n",
    "from sklearn import tree\n",
    "#choose from different tunable hyper parameters\n",
    "RegModel = tree.DecisionTreeRegressor(max_depth=3,criterion='squared_error')\n",
    "\n",
    "#Running 10-Fold cross validation on a given algorithm\n",
    "#Passing full data x and y because the K-fold will split the data and automatically \n",
    "Accuracy_Values=cross_val_score(RegModel,X,y,cv=10,scoring=custom_Scoring)\n",
    "print('\\nAccuracy values for 10-fold Cross Validation : \\n',Accuracy_Values)\n",
    "print('\\nFinal Average Accuracy of the model : ',round(Accuracy_Values.mean(),2))\n"
   ]
  },
  {
   "cell_type": "code",
   "execution_count": 7,
   "id": "c1e5edae",
   "metadata": {},
   "outputs": [
    {
     "name": "stdout",
     "output_type": "stream",
     "text": [
      "94.99356248523506\n"
     ]
    }
   ],
   "source": [
    "#Hold Out\n",
    "\n",
    "#Split the data into training an testing set\n",
    "from sklearn.model_selection import train_test_split\n",
    "    #Chaning the seed value for each iteration\n",
    "X_train, X_test, y_train, y_test = train_test_split(X,y,test_size=0.5,random_state=0)\n",
    "\n",
    "#Single Decision Tree Regression in  python\n",
    "from sklearn import tree\n",
    "#choose from different tunable hyper parameters \n",
    "RegModel = tree.DecisionTreeRegressor(max_depth=3,criterion='squared_error')\n",
    "\n",
    "#Creating the model on Training Data\n",
    "DTree=RegModel.fit(X_train,y_train)\n",
    "prediction=DTree.predict(X_test)\n",
    "\n",
    "#Measuring accuracy on Testing on testing Data\n",
    "Accuracy=100-(np.mean(np.abs((y_test-prediction)/y_test))*100)\n",
    "print(Accuracy)"
   ]
  }
 ],
 "metadata": {
  "kernelspec": {
   "display_name": "Python 3 (ipykernel)",
   "language": "python",
   "name": "python3"
  },
  "language_info": {
   "codemirror_mode": {
    "name": "ipython",
    "version": 3
   },
   "file_extension": ".py",
   "mimetype": "text/x-python",
   "name": "python",
   "nbconvert_exporter": "python",
   "pygments_lexer": "ipython3",
   "version": "3.10.0"
  }
 },
 "nbformat": 4,
 "nbformat_minor": 5
}
